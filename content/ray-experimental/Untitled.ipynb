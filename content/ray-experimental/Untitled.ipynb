{
 "cells": [
  {
   "cell_type": "code",
   "execution_count": null,
   "id": "adc49ee4-a0a5-4937-8b07-05efd280d375",
   "metadata": {},
   "outputs": [
    {
     "name": "stderr",
     "output_type": "stream",
     "text": [
      "2023-05-19 22:20:56,826\tERROR services.py:1197 -- Failed to start the dashboard , return code -11\n",
      "2023-05-19 22:20:56,828\tERROR services.py:1222 -- Error should be written to 'dashboard.log' or 'dashboard.err'. We are printing the last 20 lines for you. See 'https://docs.ray.io/en/master/ray-observability/ray-logging.html#logging-directory-structure' to find where the log file is.\n",
      "2023-05-19 22:20:56,829\tERROR services.py:1266 -- \n",
      "The last 20 lines of /tmp/ray/session_2023-05-19_22-20-56_014030_2633550/logs/dashboard.log (it contains the error message from the dashboard): \n",
      "2023-05-19 22:20:56,655\tINFO head.py:239 -- Starting dashboard metrics server on port 44227\n",
      "\n",
      "2023-05-19 22:20:56,958\tINFO worker.py:1625 -- Started a local Ray instance.\n"
     ]
    }
   ],
   "source": [
    "import ray\n",
    "\n",
    "# Load data.\n",
    "dataset = ray.data.read_csv(\"s3://anonymous@air-example-data/breast_cancer.csv\")\n",
    "\n",
    "# Split data into train and validation.\n",
    "train_dataset, valid_dataset = dataset.train_test_split(test_size=0.3)\n",
    "\n",
    "# Create a test dataset by dropping the target column.\n",
    "test_dataset = valid_dataset.drop_columns(cols=[\"target\"])"
   ]
  },
  {
   "cell_type": "code",
   "execution_count": 2,
   "id": "711ba69f-a63b-463c-af6c-62b7873a7765",
   "metadata": {},
   "outputs": [],
   "source": [
    "import ray"
   ]
  },
  {
   "cell_type": "code",
   "execution_count": null,
   "id": "81fb93ad-6612-4009-9a51-e5651010d991",
   "metadata": {},
   "outputs": [
    {
     "name": "stderr",
     "output_type": "stream",
     "text": [
      "2023-05-19 23:20:28,482\tERROR services.py:1197 -- Failed to start the dashboard , return code -11\n",
      "2023-05-19 23:20:28,484\tERROR services.py:1222 -- Error should be written to 'dashboard.log' or 'dashboard.err'. We are printing the last 20 lines for you. See 'https://docs.ray.io/en/master/ray-observability/ray-logging.html#logging-directory-structure' to find where the log file is.\n",
      "2023-05-19 23:20:28,484\tERROR services.py:1266 -- \n",
      "The last 20 lines of /tmp/ray/session_2023-05-19_23-20-26_717211_2634598/logs/dashboard.log (it contains the error message from the dashboard): \n",
      "2023-05-19 23:20:28,358\tINFO head.py:239 -- Starting dashboard metrics server on port 44227\n",
      "\n",
      "2023-05-19 23:20:28,619\tINFO worker.py:1625 -- Started a local Ray instance.\n"
     ]
    }
   ],
   "source": [
    "ray.init()"
   ]
  },
  {
   "cell_type": "code",
   "execution_count": null,
   "id": "f6580722-fd4b-49da-bfd7-72a7d5cd458c",
   "metadata": {},
   "outputs": [
    {
     "name": "stderr",
     "output_type": "stream",
     "text": [
      "2023-05-20 15:37:57,933\tERROR services.py:1197 -- Failed to start the dashboard , return code -11\n",
      "2023-05-20 15:37:57,935\tERROR services.py:1222 -- Error should be written to 'dashboard.log' or 'dashboard.err'. We are printing the last 20 lines for you. See 'https://docs.ray.io/en/master/ray-observability/ray-logging.html#logging-directory-structure' to find where the log file is.\n",
      "2023-05-20 15:37:57,936\tERROR services.py:1266 -- \n",
      "The last 20 lines of /tmp/ray/session_2023-05-20_15-37-56_008505_2652268/logs/dashboard.log (it contains the error message from the dashboard): \n",
      "2023-05-20 15:37:57,731\tINFO head.py:239 -- Starting dashboard metrics server on port 44227\n",
      "\n",
      "2023-05-20 15:37:58,062\tINFO worker.py:1625 -- Started a local Ray instance.\n"
     ]
    }
   ],
   "source": [
    "import ray\n",
    "import time\n",
    "\n",
    "\n",
    "# A regular Python function.\n",
    "def normal_function():\n",
    "    return 1\n",
    "\n",
    "\n",
    "# By adding the `@ray.remote` decorator, a regular Python function\n",
    "# becomes a Ray remote function.\n",
    "@ray.remote\n",
    "def my_function():\n",
    "    return 1\n",
    "\n",
    "\n",
    "# To invoke this remote function, use the `remote` method.\n",
    "# This will immediately return an object ref (a future) and then create\n",
    "# a task that will be executed on a worker process.\n",
    "obj_ref = my_function.remote()\n",
    "\n",
    "# The result can be retrieved with ``ray.get``.\n",
    "assert ray.get(obj_ref) == 1\n",
    "\n",
    "\n",
    "@ray.remote\n",
    "def slow_function():\n",
    "    time.sleep(10)\n",
    "    return 1\n",
    "\n",
    "\n",
    "# Ray tasks are executed in parallel.\n",
    "# All computation is performed in the background, driven by Ray's internal event loop.\n",
    "for _ in range(4):\n",
    "    # This doesn't block.\n",
    "    slow_function.remote()"
   ]
  },
  {
   "cell_type": "code",
   "execution_count": null,
   "id": "a22e5eff-f61b-4aa0-9f4d-975cb9ad2268",
   "metadata": {},
   "outputs": [],
   "source": []
  }
 ],
 "metadata": {
  "kernelspec": {
   "display_name": "Python 3 (ipykernel)",
   "language": "python",
   "name": "python3"
  },
  "language_info": {
   "codemirror_mode": {
    "name": "ipython",
    "version": 3
   },
   "file_extension": ".py",
   "mimetype": "text/x-python",
   "name": "python",
   "nbconvert_exporter": "python",
   "pygments_lexer": "ipython3",
   "version": "3.10.4"
  }
 },
 "nbformat": 4,
 "nbformat_minor": 5
}
