{
 "cells": [
  {
   "cell_type": "code",
   "execution_count": 3,
   "id": "75182e90-569c-46bf-ad3c-4c71a1263fae",
   "metadata": {},
   "outputs": [
    {
     "name": "stderr",
     "output_type": "stream",
     "text": [
      "2023-10-18 14:14:02,255 - modelscope - INFO - PyTorch version 2.1.0 Found.\n",
      "2023-10-18 14:14:02,256 - modelscope - INFO - Loading ast index from /home/modongsong/.cache/modelscope/ast_indexer\n",
      "2023-10-18 14:14:02,257 - modelscope - INFO - No valid ast index found from /home/modongsong/.cache/modelscope/ast_indexer, generating ast index from prebuilt!\n",
      "2023-10-18 14:14:02,372 - modelscope - INFO - Loading done! Current index file version is 1.9.2, with md5 aea04fe8064f0ed2af1fd3a6342b1399 and a total number of 941 components indexed\n",
      "2023-10-18 14:14:03,973 - modelscope - WARNING - There is no version specified and there is no version in the model repository,use the master branch, which is fragile, please use it with caution!\n",
      "2023-10-18 14:14:03,974 - modelscope - INFO - Model revision not specified, use revision: master\n",
      "Downloading: 100%|████████████████████████████████████████████████████████████████████████████████████████████████████| 665/665 [00:00<00:00, 56.9kB/s]\n",
      "Downloading: 100%|█████████████████████████████████████████████████████████████████████████████████████████████████| 2.48k/2.48k [00:00<00:00, 246kB/s]\n",
      "Downloading: 100%|██████████████████████████████████████████████████████████████████████████████████████████████████| 446k/446k [00:00<00:00, 2.69MB/s]\n",
      "Downloading: 100%|█████████████████████████████████████████████████████████████████████████████████████████████████▉| 523M/523M [00:23<00:00, 23.2MB/s]\n",
      "Downloading: 100%|████████████████████████████████████████████████████████████████████████████████████████████████| 2.65k/2.65k [00:00<00:00, 1.98MB/s]\n",
      "Downloading: 100%|████████████████████████████████████████████████████████████████████████████████████████████████| 1.29M/1.29M [00:00<00:00, 5.35MB/s]\n",
      "Downloading: 100%|████████████████████████████████████████████████████████████████████████████████████████████████| 0.99M/0.99M [00:00<00:00, 4.94MB/s]\n"
     ]
    },
    {
     "name": "stdout",
     "output_type": "stream",
     "text": [
      "Setting ds_accelerator to cuda (auto detect)\n"
     ]
    },
    {
     "name": "stderr",
     "output_type": "stream",
     "text": [
      "2023-10-18 14:14:42,336 - modelscope - INFO - initiate model from /home/modongsong/.cache/modelscope/hub/damo/nlp_gpt2_text-generation_english-base\n",
      "2023-10-18 14:14:42,338 - modelscope - INFO - initiate model from location /home/modongsong/.cache/modelscope/hub/damo/nlp_gpt2_text-generation_english-base.\n",
      "2023-10-18 14:14:42,340 - modelscope - INFO - initialize model from /home/modongsong/.cache/modelscope/hub/damo/nlp_gpt2_text-generation_english-base\n",
      "2023-10-18 14:14:45,194 - modelscope - WARNING - Some weights of the model checkpoint were not used when initializing ModelForTextGeneration: ['transformer.h.3.attn.bias', 'transformer.h.10.attn.bias', 'transformer.h.11.attn.bias', 'transformer.h.7.attn.bias', 'transformer.h.2.attn.bias', 'transformer.h.4.attn.bias', 'transformer.h.5.attn.bias', 'transformer.h.8.attn.bias', 'transformer.h.6.attn.bias', 'transformer.h.1.attn.bias', 'transformer.h.9.attn.bias', 'transformer.h.0.attn.bias']\n",
      "- This IS expected if you are initializing ModelForTextGeneration from the checkpoint of a model trained on another task or with another architecture (e.g. initializing a BertForTokenClassification model from a BertForPreTraining model).\n",
      "- This IS NOT expected if you are initializing ModelForTextGeneration from the checkpoint of a model that you expect to be exactly identical (initializing a BertForTokenClassification model from a BertForTokenClassification model).\n",
      "2023-10-18 14:14:45,195 - modelscope - WARNING - Some weights of ModelForTextGeneration were not initialized from the model checkpoint and are newly initialized: ['head.linear.weight']\n",
      "You should probably TRAIN this model on a down-stream task to be able to use it for predictions and inference.\n"
     ]
    },
    {
     "name": "stdout",
     "output_type": "stream",
     "text": [
      "My name is Teven and I am an engineer. I am a very talented person in my field, so this is my goal to help create something for everyone.\n",
      "\n",
      "I will be working at a company called Pivot, that I am an investor in. It will be one of my first projects, and this is why I am working on it.\n",
      "\n",
      "You may see a lot about a company, but this is my company. This can be a lot of different concepts and ideas.\n"
     ]
    }
   ],
   "source": [
    "from modelscope.pipelines import pipeline\n",
    "from modelscope.utils.constant import Tasks\n",
    "text_generator = pipeline(Tasks.text_generation, model='damo/nlp_gpt2_text-generation_english-base')\n",
    "result_zh = text_generator('My name is Teven and I am')\n",
    "print(result_zh['text'])"
   ]
  },
  {
   "cell_type": "code",
   "execution_count": 8,
   "id": "60960b19-8c17-4935-a5b2-989ccdb2cb05",
   "metadata": {},
   "outputs": [
    {
     "name": "stdout",
     "output_type": "stream",
     "text": [
      "total 538104\n",
      "-rw------- 1 modongsong modongsong       665 10月 18 14:14 config.json\n",
      "-rw------- 1 modongsong modongsong      2542 10月 18 14:14 configuration.json\n",
      "-rw------- 1 modongsong modongsong    456318 10月 18 14:14 merges.txt\n",
      "-rw------- 1 modongsong modongsong 548139073 10月 18 14:14 pytorch_model.bin\n",
      "-rw------- 1 modongsong modongsong      2709 10月 18 14:14 README.md\n",
      "-rw------- 1 modongsong modongsong   1355256 10月 18 14:14 tokenizer.json\n",
      "-rw------- 1 modongsong modongsong   1042301 10月 18 14:14 vocab.json\n"
     ]
    }
   ],
   "source": [
    "! ls -l /home/modongsong/.cache/modelscope/hub/damo/nlp_gpt2_text-generation_english-base/"
   ]
  },
  {
   "cell_type": "code",
   "execution_count": null,
   "id": "7cd5b913-bc90-4fad-a771-042ba2072c2b",
   "metadata": {},
   "outputs": [],
   "source": []
  },
  {
   "cell_type": "code",
   "execution_count": null,
   "id": "ec876df8-840e-47c9-b120-69f5e79bdf7d",
   "metadata": {},
   "outputs": [],
   "source": []
  }
 ],
 "metadata": {
  "kernelspec": {
   "display_name": "Python 3 (ipykernel)",
   "language": "python",
   "name": "python3"
  },
  "language_info": {
   "codemirror_mode": {
    "name": "ipython",
    "version": 3
   },
   "file_extension": ".py",
   "mimetype": "text/x-python",
   "name": "python",
   "nbconvert_exporter": "python",
   "pygments_lexer": "ipython3",
   "version": "3.9.16"
  }
 },
 "nbformat": 4,
 "nbformat_minor": 5
}
