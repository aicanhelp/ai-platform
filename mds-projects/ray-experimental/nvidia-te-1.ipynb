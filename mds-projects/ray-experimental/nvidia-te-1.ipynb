{
 "cells": [
  {
   "cell_type": "code",
   "execution_count": 3,
   "id": "27b54f47-8f3b-46f6-a80e-a551cedd10f7",
   "metadata": {},
   "outputs": [
    {
     "ename": "ModuleNotFoundError",
     "evalue": "No module named 'transformer_engine'",
     "output_type": "error",
     "traceback": [
      "\u001b[0;31m---------------------------------------------------------------------------\u001b[0m",
      "\u001b[0;31mModuleNotFoundError\u001b[0m                       Traceback (most recent call last)",
      "Input \u001b[0;32mIn [3]\u001b[0m, in \u001b[0;36m<cell line: 2>\u001b[0;34m()\u001b[0m\n\u001b[1;32m      1\u001b[0m \u001b[38;5;28;01mimport\u001b[39;00m \u001b[38;5;21;01mtorch\u001b[39;00m\n\u001b[0;32m----> 2\u001b[0m \u001b[38;5;28;01mimport\u001b[39;00m \u001b[38;5;21;01mquickstart_utils\u001b[39;00m \u001b[38;5;28;01mas\u001b[39;00m \u001b[38;5;21;01mutils\u001b[39;00m\n\u001b[1;32m      4\u001b[0m \u001b[38;5;28;01mclass\u001b[39;00m \u001b[38;5;21;01mBasicTransformerLayer\u001b[39;00m(torch\u001b[38;5;241m.\u001b[39mnn\u001b[38;5;241m.\u001b[39mModule):\n\u001b[1;32m      5\u001b[0m     \u001b[38;5;28;01mdef\u001b[39;00m \u001b[38;5;21m__init__\u001b[39m(\n\u001b[1;32m      6\u001b[0m         \u001b[38;5;28mself\u001b[39m,\n\u001b[1;32m      7\u001b[0m         hidden_size: \u001b[38;5;28mint\u001b[39m,\n\u001b[0;32m   (...)\u001b[0m\n\u001b[1;32m     12\u001b[0m         hidden_dropout: \u001b[38;5;28mfloat\u001b[39m \u001b[38;5;241m=\u001b[39m \u001b[38;5;241m0.1\u001b[39m,\n\u001b[1;32m     13\u001b[0m     ):\n",
      "File \u001b[0;32m/udata/workspace/github-aican/ai-platform/content/ray-experimental/quickstart_utils.py:8\u001b[0m, in \u001b[0;36m<module>\u001b[0;34m\u001b[0m\n\u001b[1;32m      6\u001b[0m \u001b[38;5;28;01mfrom\u001b[39;00m \u001b[38;5;21;01mtyping\u001b[39;00m \u001b[38;5;28;01mimport\u001b[39;00m Callable, Optional\n\u001b[1;32m      7\u001b[0m \u001b[38;5;28;01mimport\u001b[39;00m \u001b[38;5;21;01mtorch\u001b[39;00m\n\u001b[0;32m----> 8\u001b[0m \u001b[38;5;28;01mimport\u001b[39;00m \u001b[38;5;21;01mtransformer_engine\u001b[39;00m\u001b[38;5;21;01m.\u001b[39;00m\u001b[38;5;21;01mpytorch\u001b[39;00m \u001b[38;5;28;01mas\u001b[39;00m \u001b[38;5;21;01mte\u001b[39;00m\n\u001b[1;32m      9\u001b[0m \u001b[38;5;28;01mfrom\u001b[39;00m \u001b[38;5;21;01mtransformer_engine\u001b[39;00m\u001b[38;5;21;01m.\u001b[39;00m\u001b[38;5;21;01mpytorch\u001b[39;00m\u001b[38;5;21;01m.\u001b[39;00m\u001b[38;5;21;01mfp8\u001b[39;00m \u001b[38;5;28;01mimport\u001b[39;00m DelayedScaling, dist_group_type\n\u001b[1;32m     11\u001b[0m \u001b[38;5;28;01mdef\u001b[39;00m \u001b[38;5;21mspeedometer\u001b[39m(\n\u001b[1;32m     12\u001b[0m         module: torch\u001b[38;5;241m.\u001b[39mnn\u001b[38;5;241m.\u001b[39mModule,\n\u001b[1;32m     13\u001b[0m         \u001b[38;5;28minput\u001b[39m: torch\u001b[38;5;241m.\u001b[39mTensor,\n\u001b[0;32m   (...)\u001b[0m\n\u001b[1;32m     18\u001b[0m         warmup_iters: \u001b[38;5;28mint\u001b[39m \u001b[38;5;241m=\u001b[39m \u001b[38;5;241m50\u001b[39m,\n\u001b[1;32m     19\u001b[0m ) \u001b[38;5;241m-\u001b[39m\u001b[38;5;241m>\u001b[39m \u001b[38;5;28;01mNone\u001b[39;00m:\n",
      "\u001b[0;31mModuleNotFoundError\u001b[0m: No module named 'transformer_engine'"
     ]
    }
   ],
   "source": [
    "import torch\n",
    "import quickstart_utils as utils\n",
    "\n",
    "class BasicTransformerLayer(torch.nn.Module):\n",
    "    def __init__(\n",
    "        self,\n",
    "        hidden_size: int,\n",
    "        ffn_hidden_size: int,\n",
    "        num_attention_heads: int,\n",
    "        layernorm_eps: int = 1e-5,\n",
    "        attention_dropout: float = 0.1,\n",
    "        hidden_dropout: float = 0.1,\n",
    "    ):\n",
    "        super().__init__()\n",
    "        self.num_attention_heads = num_attention_heads\n",
    "        self.kv_channels = hidden_size // num_attention_heads\n",
    "        self.ln1 = torch.nn.LayerNorm(hidden_size, eps=layernorm_eps)\n",
    "        self.qkv_projection = torch.nn.Linear(hidden_size, 3 * hidden_size, bias=True)\n",
    "        self.attention = utils.DotProductAttention(\n",
    "            num_attention_heads=num_attention_heads,\n",
    "            kv_channels=self.kv_channels,\n",
    "            attention_dropout=attention_dropout,\n",
    "        )\n",
    "        self.projection = torch.nn.Linear(hidden_size, hidden_size, bias=True)\n",
    "        self.dropout = torch.nn.Dropout(hidden_dropout)\n",
    "        self.ln2 = torch.nn.LayerNorm(hidden_size, eps=layernorm_eps)\n",
    "        self.mlp = utils.BasicMLP(\n",
    "            hidden_size=hidden_size,\n",
    "            ffn_hidden_size=ffn_hidden_size,\n",
    "        )\n",
    "\n",
    "    def forward(\n",
    "        self,\n",
    "        x: torch.Tensor,\n",
    "        attention_mask: torch.Tensor\n",
    "    ) -> torch.Tensor:\n",
    "        res = x\n",
    "        x = self.ln1(x)\n",
    "\n",
    "        # Fused QKV projection\n",
    "        qkv = self.qkv_projection(x)\n",
    "        qkv = qkv.view(qkv.size(0), qkv.size(1), self.num_attention_heads, 3 * self.kv_channels)\n",
    "        q, k, v = torch.split(qkv, qkv.size(3) // 3, dim=3)\n",
    "\n",
    "        x = self.attention(q, k, v, attention_mask)\n",
    "        x = self.projection(x)\n",
    "        x = self.dropout(x)\n",
    "        x = res + x\n",
    "        res = x\n",
    "        x = self.ln2(x)\n",
    "        x = self.mlp(x)\n",
    "\n",
    "        return x + res"
   ]
  },
  {
   "cell_type": "code",
   "execution_count": null,
   "id": "7f5320e5-e325-4576-b908-7bcb6f633060",
   "metadata": {},
   "outputs": [],
   "source": []
  }
 ],
 "metadata": {
  "kernelspec": {
   "display_name": "Python 3 (ipykernel)",
   "language": "python",
   "name": "python3"
  },
  "language_info": {
   "codemirror_mode": {
    "name": "ipython",
    "version": 3
   },
   "file_extension": ".py",
   "mimetype": "text/x-python",
   "name": "python",
   "nbconvert_exporter": "python",
   "pygments_lexer": "ipython3",
   "version": "3.10.4"
  }
 },
 "nbformat": 4,
 "nbformat_minor": 5
}
